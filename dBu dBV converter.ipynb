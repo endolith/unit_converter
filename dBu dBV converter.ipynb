{
 "cells": [
  {
   "cell_type": "code",
   "execution_count": null,
   "metadata": {},
   "outputs": [],
   "source": [
    "from math import sqrt\n",
    "\n",
    "dBV_REF = 1  # 1 volt\n",
    "dBu_REF = sqrt(600*1/1000)  # 1 mW into a 600 Ω load = 0.774 volt"
   ]
  },
  {
   "cell_type": "code",
   "execution_count": null,
   "metadata": {},
   "outputs": [],
   "source": [
    "import ipywidgets as widgets\n",
    "w_dBu = widgets.FloatText(description='dBu:')\n",
    "w_dBV = widgets.FloatText(description='dBV:')\n",
    "\n",
    "def on_dBu_change(change):\n",
    "    w_dBV.value = change['new']\n",
    "    \n",
    "w_dBu.observe(on_dBu_change, names='value')\n",
    "\n",
    "display(w_dBu)\n",
    "display(w_dBV)"
   ]
  }
 ],
 "metadata": {
  "kernelspec": {
   "display_name": "Python 3",
   "language": "python",
   "name": "python3"
  },
  "language_info": {
   "codemirror_mode": {
    "name": "ipython",
    "version": 3
   },
   "file_extension": ".py",
   "mimetype": "text/x-python",
   "name": "python",
   "nbconvert_exporter": "python",
   "pygments_lexer": "ipython3",
   "version": "3.9.1"
  }
 },
 "nbformat": 4,
 "nbformat_minor": 4
}
