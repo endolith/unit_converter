{
 "cells": [
  {
   "cell_type": "code",
   "execution_count": null,
   "metadata": {},
   "outputs": [],
   "source": [
    "from numpy import sqrt, log10\n",
    "import numpy as np\n",
    "\n",
    "np.seterr(all='ignore')\n",
    "\n",
    "dBV_REF = 1  # 1 V\n",
    "dBu_REF = sqrt(600*1/1000)  # 1 mW into a 600 Ω load = 0.774 V\n",
    "dBμV_REF = 1e-6  # 1 μV\n",
    "\n",
    "units = ['Vrms', 'Vpk', 'Vpp', 'dBu', 'dBV', 'dBμV']"
   ]
  },
  {
   "cell_type": "code",
   "execution_count": null,
   "metadata": {
    "scrolled": true
   },
   "outputs": [],
   "source": [
    "import ipywidgets as widgets\n",
    "\n",
    "# Create an input/output widget for each unit\n",
    "w = {unit: widgets.FloatText(description=unit + ':') for unit in units}\n",
    "for unit in units:\n",
    "    display(w[unit])"
   ]
  },
  {
   "cell_type": "code",
   "execution_count": null,
   "metadata": {},
   "outputs": [],
   "source": [
    "# Each node only needs to be connected to one other node.\n",
    "# These are the simplest relationships to represent:\n",
    "\n",
    "conversions = {\n",
    "    ('Vpk',  'Vpp'):  (lambda x: x*2,                  lambda x: x/2),\n",
    "    ('Vpk',  'Vrms'): (lambda x: x/sqrt(2),            lambda x: x*sqrt(2)),\n",
    "    ('Vrms', 'dBV'):  (lambda x: 20*log10(x/dBV_REF),  lambda x: 10**(x/20) * dBV_REF),\n",
    "    ('Vrms', 'dBu'):  (lambda x: 20*log10(x/dBu_REF),  lambda x: 10**(x/20) * dBu_REF),\n",
    "    ('Vrms', 'dBμV'): (lambda x: 20*log10(x/dBμV_REF), lambda x: 10**(x/20) * dBμV_REF),\n",
    "    }\n",
    " \n",
    "for units, funcs in conversions.items():\n",
    "    widgets.link((w[units[0]], 'value'), (w[units[1]], 'value'), (funcs[0], funcs[1]))"
   ]
  },
  {
   "cell_type": "code",
   "execution_count": null,
   "metadata": {},
   "outputs": [],
   "source": [
    "from ipywidgets import Button, HBox, VBox, Label\n",
    "\n",
    "left_box = VBox([Label('Voltage units'),w['Vrms'], w['Vpp']])\n",
    "right_box = VBox([Label('Power units'), w['dBu'], w['dBV']])\n",
    "HBox([left_box, right_box])"
   ]
  },
  {
   "cell_type": "code",
   "execution_count": null,
   "metadata": {},
   "outputs": [],
   "source": []
  }
 ],
 "metadata": {
  "kernelspec": {
   "display_name": "Python 3",
   "language": "python",
   "name": "python3"
  },
  "language_info": {
   "codemirror_mode": {
    "name": "ipython",
    "version": 3
   },
   "file_extension": ".py",
   "mimetype": "text/x-python",
   "name": "python",
   "nbconvert_exporter": "python",
   "pygments_lexer": "ipython3",
   "version": "3.9.1"
  }
 },
 "nbformat": 4,
 "nbformat_minor": 4
}
