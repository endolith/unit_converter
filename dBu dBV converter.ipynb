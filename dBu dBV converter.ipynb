{
 "cells": [
  {
   "cell_type": "code",
   "execution_count": null,
   "metadata": {},
   "outputs": [],
   "source": [
    "from math import sqrt, log10\n",
    "\n",
    "dBV_REF = 1  # 1 V\n",
    "dBu_REF = sqrt(600*1/1000)  # 1 mW into a 600 Ω load = 0.774 V\n",
    "dBμV_REF = 1e-6  # 1 μV\n",
    "\n",
    "units = ['Vrms', 'Vpk', 'Vpp', 'dBu', 'dBV', 'dBμV']"
   ]
  },
  {
   "cell_type": "code",
   "execution_count": null,
   "metadata": {},
   "outputs": [],
   "source": [
    "import ipywidgets as widgets\n",
    "\n",
    "# Create an input/output widget for each unit\n",
    "w = {unit: widgets.FloatText(description=unit + ':') for unit in units}\n",
    "for unit in units:\n",
    "    display(w[unit])"
   ]
  },
  {
   "cell_type": "code",
   "execution_count": null,
   "metadata": {},
   "outputs": [],
   "source": [
    "def on_dBu_change(change):\n",
    "    w['dBV'].value = change['new'] + 20*log10(dBu_REF/dBV_REF)\n",
    "    w['dBμV'].value = change['new'] + 20*log10(dBu_REF/dBμV_REF)\n",
    "    w['Vrms'].value = 10**(change['new']/20) * dBu_REF\n",
    "    \n",
    "w['dBu'].observe(on_dBu_change, names='value')\n",
    "\n",
    "\n",
    "def on_dBV_change(change):\n",
    "    w['dBu'].value = change['new'] + 20*log10(dBV_REF/dBu_REF)\n",
    "    w['dBμV'].value = change['new'] + 20*log10(dBV_REF/dBμV_REF)\n",
    "    w['Vrms'].value = 10**(change['new']/20) * dBV_REF\n",
    "\n",
    "w['dBV'].observe(on_dBV_change, names='value')\n",
    "\n",
    "\n",
    "def on_dBμV_change(change):\n",
    "    w['dBu'].value = change['new'] + 20*log10(dBμV_REF/dBu_REF)\n",
    "    w['dBV'].value = change['new'] + 20*log10(dBμV_REF/dBV_REF)\n",
    "    w['Vrms'].value = 10**(change['new']/20) * dBμV_REF\n",
    "    \n",
    "w['dBμV'].observe(on_dBμV_change, names='value')\n",
    "\n",
    "\n",
    "def on_Vrms_change(change):\n",
    "    w['dBu'].value = 20*log10(change['new']/dBu_REF)\n",
    "    w['dBV'].value = 20*log10(change['new']/dBV_REF)\n",
    "    w['dBμV'].value = 20*log10(change['new']/dBμV_REF)\n",
    "    \n",
    "w['Vrms'].observe(on_Vrms_change, names='value')"
   ]
  },
  {
   "cell_type": "code",
   "execution_count": null,
   "metadata": {},
   "outputs": [],
   "source": [
    "from ipywidgets import Button, HBox, VBox, Label\n",
    "\n",
    "left_box = VBox([Label('Voltage units'),w['Vrms'], w['Vpp']])\n",
    "right_box = VBox([Label('Power units'), w['dBu'], w['dBV']])\n",
    "HBox([left_box, right_box])"
   ]
  },
  {
   "cell_type": "code",
   "execution_count": null,
   "metadata": {},
   "outputs": [],
   "source": [
    "import ipywidgets as widgets\n",
    "\n",
    "a = widgets.FloatText(description='a:')\n",
    "b = widgets.FloatText(description='b:')\n",
    "\n",
    "def update_one(x):\n",
    "    return x + 1\n",
    "\n",
    "widgets.link((a, 'value'), (b, 'value'), (update_one, update_one))\n",
    "\n",
    "display(a)\n",
    "display(b)"
   ]
  },
  {
   "cell_type": "code",
   "execution_count": null,
   "metadata": {},
   "outputs": [],
   "source": [
    "def dBV_to_dBu(x):\n",
    "    return x + 20*log10(dBV_REF/dBu_REF)\n",
    "\n",
    "def dBu_to_dBV(x):\n",
    "    return x + 20*log10(dBu_REF/dBV_REF)\n",
    "\n",
    "widgets.link((w['dBu'], 'value'), (w['dBV'], 'value'), (dBV_to_dBu, dBu_to_dBV))\n",
    "\n",
    "def dBV_to_Vrms(x):\n",
    "    return 20*log10(x/dBV_REF)\n",
    "\n",
    "def Vrms_to_dBV(x):\n",
    "    return 10**(x/20) * dBV_REF\n",
    "\n",
    "widgets.link((w['Vrms'], 'value'), (w['dBV'], 'value'), (dBV_to_Vrms, Vrms_to_dBV))"
   ]
  },
  {
   "cell_type": "code",
   "execution_count": null,
   "metadata": {},
   "outputs": [],
   "source": []
  }
 ],
 "metadata": {
  "kernelspec": {
   "display_name": "Python 3",
   "language": "python",
   "name": "python3"
  },
  "language_info": {
   "codemirror_mode": {
    "name": "ipython",
    "version": 3
   },
   "file_extension": ".py",
   "mimetype": "text/x-python",
   "name": "python",
   "nbconvert_exporter": "python",
   "pygments_lexer": "ipython3",
   "version": "3.9.1"
  }
 },
 "nbformat": 4,
 "nbformat_minor": 4
}
