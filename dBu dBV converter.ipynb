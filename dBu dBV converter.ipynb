{
 "cells": [
  {
   "cell_type": "code",
   "execution_count": null,
   "metadata": {},
   "outputs": [],
   "source": [
    "from numpy import sqrt, log10, exp\n",
    "from numpy import log as ln  # \"log\" is ambiguous\n",
    "import numpy as np\n",
    "\n",
    "np.seterr(all='ignore')\n",
    "\n",
    "dBV_REF = 1  # 1 V\n",
    "dBu_REF = sqrt(600*1/1000)  # 1 mW into a 600 Ω load = 0.774 V\n",
    "dBμV_REF = 1e-6  # 1 μV\n",
    "\n",
    "dBW_REF = 1     # 1 W\n",
    "dBm_REF = 1e-3  # 1 mW\n",
    "dBk_REF = 1e3   # 1 kW\n",
    "dBf_REF = 1e-15 # 1 fW\n",
    "\n",
    "V_units = ['Vrms', 'Vpk', 'Vpp', 'dBu', 'dBV', 'dBμV']\n",
    "W_units = ['W', 'dBW', 'dBm', 'dBf', 'dBk']\n",
    "dml_units = ['V/V', 'W/W', 'dB', 'Np']"
   ]
  },
  {
   "cell_type": "code",
   "execution_count": null,
   "metadata": {
    "scrolled": true
   },
   "outputs": [],
   "source": [
    "import ipywidgets as widgets\n",
    "from ipywidgets import HBox, VBox, Label\n",
    "\n",
    "# Create an input/output widget for each unit\n",
    "w = {unit: widgets.FloatText(description=unit + ':') for unit in V_units + W_units + dml_units}\n",
    "w['Zload'] = widgets.FloatText(description='Zload:', value=50)\n",
    "\n",
    "HBox([VBox([Label('Voltage units'), *(w[u] for u in V_units)]),\n",
    "      VBox([Label('Power units'), w['Zload'], *(w[u] for u in W_units)]),\n",
    "      VBox([Label('Dimensionless units'), *(w[u] for u in dml_units)])\n",
    "     ])"
   ]
  },
  {
   "cell_type": "code",
   "execution_count": null,
   "metadata": {},
   "outputs": [],
   "source": [
    "# Each node only needs to be connected to one other node.\n",
    "# These are the simplest relationships to represent:\n",
    "\n",
    "conversions = {\n",
    "    ('Vpk',  'Vpp'):  (lambda x: x*2,                  lambda x: x/2),\n",
    "    ('Vpk',  'Vrms'): (lambda x: x/sqrt(2),            lambda x: x*sqrt(2)),\n",
    "    ('Vrms', 'dBV'):  (lambda x: 20*log10(x/dBV_REF),  lambda x: 10**(x/20) * dBV_REF),\n",
    "    ('Vrms', 'dBu'):  (lambda x: 20*log10(x/dBu_REF),  lambda x: 10**(x/20) * dBu_REF),\n",
    "    ('Vrms', 'dBμV'): (lambda x: 20*log10(x/dBμV_REF), lambda x: 10**(x/20) * dBμV_REF),\n",
    "\n",
    "    ('W', 'dBW'):  (lambda x: 10*log10(x/dBW_REF),  lambda x: 10**(x/10) * dBW_REF),\n",
    "    ('W', 'dBm'):  (lambda x: 10*log10(x/dBm_REF),  lambda x: 10**(x/10) * dBm_REF),\n",
    "    ('W', 'dBk'):  (lambda x: 10*log10(x/dBk_REF),  lambda x: 10**(x/10) * dBk_REF),\n",
    "    ('W', 'dBf'):  (lambda x: 10*log10(x/dBf_REF),  lambda x: 10**(x/10) * dBf_REF),\n",
    "\n",
    "    ('Vrms', 'W'):  (lambda V: V**2/w['Zload'].value,  lambda P: sqrt(P*w['Zload'].value)),\n",
    "\n",
    "    ('V/V', 'W/W'): (lambda x: x**2,         lambda x: sqrt(x)),\n",
    "    ('V/V', 'Np'):  (lambda x: ln(x),        lambda x: exp(x)),\n",
    "    ('W/W', 'dB'):  (lambda x: 10*log10(x),  lambda x: 10**(x/10)),\n",
    "    }\n",
    "\n",
    "for units, funcs in conversions.items():\n",
    "    widgets.link((w[units[0]], 'value'), (w[units[1]], 'value'), (funcs[0], funcs[1]))\n",
    "    \n",
    "# V and W update each other based on Z, and Z updates W, but W should not update Z\n",
    "widgets.dlink((w['Zload'], 'value'), (w['W'], 'value'), lambda Z: w['Vrms'].value**2/Z);"
   ]
  },
  {
   "cell_type": "code",
   "execution_count": null,
   "metadata": {},
   "outputs": [],
   "source": []
  }
 ],
 "metadata": {
  "kernelspec": {
   "display_name": "Python 3",
   "language": "python",
   "name": "python3"
  },
  "language_info": {
   "codemirror_mode": {
    "name": "ipython",
    "version": 3
   },
   "file_extension": ".py",
   "mimetype": "text/x-python",
   "name": "python",
   "nbconvert_exporter": "python",
   "pygments_lexer": "ipython3",
   "version": "3.9.1"
  }
 },
 "nbformat": 4,
 "nbformat_minor": 4
}
